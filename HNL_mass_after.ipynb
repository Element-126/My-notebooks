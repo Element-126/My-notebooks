{
 "cells": [
  {
   "cell_type": "markdown",
   "metadata": {},
   "source": [
    "Data generated using `\"$FAIRSHIP\"/macro/run_simScript.py --Pythia8 -n 10000 --couplings '0,1e-8,0' --mass '1.5'`"
   ]
  },
  {
   "cell_type": "markdown",
   "metadata": {},
   "source": [
    "For this test, interactions with the detector were disabled using the `exclusionList` in `shipDet_conf.py`."
   ]
  },
  {
   "cell_type": "code",
   "execution_count": 1,
   "metadata": {
    "collapsed": true
   },
   "outputs": [],
   "source": [
    "const std::string dirname(\"./2017-05-28/after\"); // Replace by /path/to/data/directory\n",
    "const std::string filename(\"ship.conical.Pythia8-TGeant4.root\");\n",
    "const auto fullname = dirname + \"/\" + filename;"
   ]
  },
  {
   "cell_type": "code",
   "execution_count": 2,
   "metadata": {
    "collapsed": true,
    "scrolled": false
   },
   "outputs": [],
   "source": [
    "TFile dat(fullname.c_str(), \"read\");"
   ]
  },
  {
   "cell_type": "code",
   "execution_count": 3,
   "metadata": {
    "collapsed": true
   },
   "outputs": [],
   "source": [
    "auto tree = dynamic_cast<TTree*>(dat.Get(\"cbmsim\"));"
   ]
  },
  {
   "cell_type": "code",
   "execution_count": 4,
   "metadata": {
    "collapsed": true
   },
   "outputs": [],
   "source": [
    "TTreeReader reader(tree);"
   ]
  },
  {
   "cell_type": "code",
   "execution_count": 5,
   "metadata": {
    "collapsed": true
   },
   "outputs": [],
   "source": [
    "TTreeReaderArray<Int_t> code(reader, \"MCTrack.fPdgCode\");"
   ]
  },
  {
   "cell_type": "code",
   "execution_count": 6,
   "metadata": {
    "collapsed": true
   },
   "outputs": [],
   "source": [
    "TTreeReaderArray<Double32_t> Px(reader, \"MCTrack.fPx\");\n",
    "TTreeReaderArray<Double32_t> Py(reader, \"MCTrack.fPy\");\n",
    "TTreeReaderArray<Double32_t> Pz(reader, \"MCTrack.fPz\");\n",
    "TTreeReaderArray<Double32_t> M(reader, \"MCTrack.fM\");\n",
    "TTreeReaderArray<Int_t> motherId(reader, \"MCTrack.fMotherId\");"
   ]
  },
  {
   "cell_type": "code",
   "execution_count": 7,
   "metadata": {
    "collapsed": true
   },
   "outputs": [],
   "source": [
    "constexpr Int_t hnlCode = 9900015;"
   ]
  },
  {
   "cell_type": "code",
   "execution_count": 8,
   "metadata": {
    "collapsed": true
   },
   "outputs": [],
   "source": [
    "TH1F histInvM(\"histInvM\", \"HNL mass (reconstructed from decay products)\", 100, 0, 2);"
   ]
  },
  {
   "cell_type": "code",
   "execution_count": 9,
   "metadata": {
    "collapsed": true
   },
   "outputs": [],
   "source": [
    "TH1F histHNLMass(\"histHNLMass\", \"HNL mass (as recorded)\", 100, 0, 2);"
   ]
  },
  {
   "cell_type": "code",
   "execution_count": 10,
   "metadata": {
    "collapsed": true
   },
   "outputs": [],
   "source": [
    "std::vector<UInt_t> hnlIds;\n",
    "Double_t hnlMinMass(std::numeric_limits<double>::infinity()), hnlMaxMass(-std::numeric_limits<double>::infinity());\n",
    "while (reader.Next()) {\n",
    "    hnlIds.resize(0);\n",
    "    const UInt_t sz = code.GetSize();\n",
    "    assert(Pz.GetSize() == sz);\n",
    "    assert(motherId.GetSize() == sz);\n",
    "    // Find HNLs and fill the histogram of recorded mass\n",
    "    for (UInt_t i = 0; i < sz; ++i) {\n",
    "        if (code[i] == hnlCode) {\n",
    "            hnlIds.push_back(i);\n",
    "            histHNLMass.Fill(M[i]);\n",
    "            hnlMinMass = std::min(hnlMinMass, M[i]);\n",
    "            hnlMaxMass = std::max(hnlMaxMass, M[i]);\n",
    "        }\n",
    "    }\n",
    "    // Recompute the HNL mass from the 4-momenta of their decay products\n",
    "    for (UInt_t i = 0; i < hnlIds.size(); ++i) {\n",
    "        const auto id = hnlIds[i];\n",
    "        assert(code[id] == hnlCode);\n",
    "        Double32_t P[4] = {0.,0.,0.,0.};\n",
    "        for (UInt_t j = 0; j < sz; ++j) {\n",
    "            if (motherId[j] == id) {\n",
    "                const Double32_t E = TMath::Sqrt(M[j]*M[j]+Px[j]*Px[j]+Py[j]*Py[j]+Pz[j]*Pz[j]);\n",
    "                P[0] += E;\n",
    "                P[1] += Px[j];\n",
    "                P[2] += Py[j];\n",
    "                P[3] += Pz[j];\n",
    "            }\n",
    "        }\n",
    "        const Double32_t MInv = TMath::Sqrt(P[0]*P[0]-P[1]*P[1]-P[2]*P[2]-P[3]*P[3]);\n",
    "        histInvM.Fill(MInv);\n",
    "    }\n",
    "}"
   ]
  },
  {
   "cell_type": "code",
   "execution_count": 11,
   "metadata": {
    "scrolled": false
   },
   "outputs": [
    {
     "data": {
      "image/png": "[encoded data removed]",
      "text/plain": [
       "<IPython.core.display.Image object>"
      ]
     },
     "metadata": {},
     "output_type": "display_data"
    }
   ],
   "source": [
    "TCanvas c1;\n",
    "histInvM.Draw();\n",
    "c1.Draw();"
   ]
  },
  {
   "cell_type": "code",
   "execution_count": 12,
   "metadata": {},
   "outputs": [
    {
     "data": {
      "image/png": "[encoded data removed]",
      "text/plain": [
       "<IPython.core.display.Image object>"
      ]
     },
     "metadata": {},
     "output_type": "display_data"
    }
   ],
   "source": [
    "TCanvas c2;\n",
    "histHNLMass.Draw();\n",
    "c2.Draw();"
   ]
  },
  {
   "cell_type": "code",
   "execution_count": 13,
   "metadata": {},
   "outputs": [
    {
     "name": "stdout",
     "output_type": "stream",
     "text": [
      "HNL mass range: [1, 1] GeV\n"
     ]
    }
   ],
   "source": [
    "std::cout << \"HNL mass range: [\" << hnlMinMass << \", \" << hnlMaxMass << \"] GeV\" << std::endl;"
   ]
  }
 ],
 "metadata": {
  "kernelspec": {
   "display_name": "ROOT C++",
   "language": "c++",
   "name": "root"
  },
  "language_info": {
   "codemirror_mode": "text/x-c++src",
   "file_extension": ".C",
   "mimetype": " text/x-c++src",
   "name": "c++"
  }
 },
 "nbformat": 4,
 "nbformat_minor": 2
}
